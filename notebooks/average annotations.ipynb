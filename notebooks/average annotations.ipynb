{
 "cells": [
  {
   "cell_type": "code",
   "execution_count": 6,
   "metadata": {},
   "outputs": [],
   "source": [
    "import pandas as pd\n",
    "import subprocess\n",
    "from AmigosDataset import AmigosDataset\n",
    "from torchvision import datasets, transforms\n",
    "import os, torch\n",
    "import numpy as np\n",
    "from scipy.io import loadmat\n",
    "from torch.utils.data import Dataset, DataLoader"
   ]
  },
  {
   "cell_type": "code",
   "execution_count": 7,
   "metadata": {
    "scrolled": true
   },
   "outputs": [],
   "source": [
    "targets = pd.read_excel(\"External_Annotations.xlsx\")\n",
    "\n",
    "targets['arousal'] = (targets['Arousal_Annotator_1'] +  targets['Arousal_Annotator_2'] +  targets['Arousal_Annotator_3'])/6\n",
    "targets['valence'] = (targets['Valence_Annotator_1'] +  targets['Valence_Annotator_2'] +  targets['Valence_Annotator_3'])/6\n",
    "\n",
    "# targets = targets[targets.VideoID != \"B1\" ]\n",
    "# targets = targets[targets.VideoID != \"N1\" ]\n",
    "# targets = targets[targets.VideoID != \"P1\" ]\n",
    "# targets = targets[targets.VideoID != \"U1\" ]\n",
    "targets = targets.drop(\n",
    "    [\n",
    "        \"Arousal_Annotator_1\",\n",
    "        \"Arousal_Annotator_2\",\n",
    "        \"Arousal_Annotator_3\",\n",
    "        \"Valence_Annotator_1\",\n",
    "        \"Valence_Annotator_2\",\n",
    "        \"Valence_Annotator_3\",\n",
    "    ],\n",
    "    axis=1\n",
    ")\n",
    "\n",
    "targets[\"targets\"] = targets[['arousal','valence']].values.tolist()\n",
    "targets[\"Segment_Index\"] = targets[\"Senment_Index\"]\n",
    "targets.set_index(['UserID', 'VideoID', 'Senment_Index'], inplace=True)\n",
    "\n",
    "targets[\"targets\"] = targets[\"targets\"].astype(list)\n"
   ]
  },
  {
   "cell_type": "code",
   "execution_count": null,
   "metadata": {},
   "outputs": [],
   "source": [
    "targets.to_csv('targets.csv')"
   ]
  }
 ],
 "metadata": {
  "kernelspec": {
   "display_name": "Python 3",
   "language": "python",
   "name": "python3"
  },
  "language_info": {
   "codemirror_mode": {
    "name": "ipython",
    "version": 3
   },
   "file_extension": ".py",
   "mimetype": "text/x-python",
   "name": "python",
   "nbconvert_exporter": "python",
   "pygments_lexer": "ipython3",
   "version": "3.7.3"
  },
  "varInspector": {
   "cols": {
    "lenName": 16,
    "lenType": 16,
    "lenVar": 40
   },
   "kernels_config": {
    "python": {
     "delete_cmd_postfix": "",
     "delete_cmd_prefix": "del ",
     "library": "var_list.py",
     "varRefreshCmd": "print(var_dic_list())"
    },
    "r": {
     "delete_cmd_postfix": ") ",
     "delete_cmd_prefix": "rm(",
     "library": "var_list.r",
     "varRefreshCmd": "cat(var_dic_list()) "
    }
   },
   "types_to_exclude": [
    "module",
    "function",
    "builtin_function_or_method",
    "instance",
    "_Feature"
   ],
   "window_display": false
  }
 },
 "nbformat": 4,
 "nbformat_minor": 2
}
