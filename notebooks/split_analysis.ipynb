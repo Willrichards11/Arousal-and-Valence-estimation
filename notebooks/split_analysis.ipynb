{
 "cells": [
  {
   "cell_type": "code",
   "execution_count": null,
   "metadata": {
    "ExecuteTime": {
     "end_time": "2020-08-21T11:59:35.497417Z",
     "start_time": "2020-08-21T11:59:35.491987Z"
    }
   },
   "outputs": [],
   "source": [
    "import json\n",
    "import matplotlib.pyplot as plt\n",
    "import numpy as np\n",
    "import os\n",
    "import pandas as pd\n",
    "import matplotlib\n",
    "import scipy.stats as stats\n",
    "import scipy.stats\n",
    "from scipy.special import boxcox, inv_boxcox\n",
    "\n",
    "\n",
    "def ccc(array1, array2):\n",
    "    sigx = np.std(array1)\n",
    "    sigy = np.std(array2)\n",
    "    corr = np.corrcoef(array1, array2)[0][1]\n",
    "    mux = np.mean(array1)\n",
    "    muy = np.mean(array2)\n",
    "    return (2*corr*sigx*sigy) / (sigx**2 + sigy**2 + (mux - muy)**2)\n",
    "\n"
   ]
  },
  {
   "cell_type": "markdown",
   "metadata": {},
   "source": [
    "# VGG 2d - LOSO - HOG\n"
   ]
  },
  {
   "cell_type": "code",
   "execution_count": 7,
   "metadata": {},
   "outputs": [],
   "source": [
    "root = 'jsons/splits_adapted_hog1em4lr//'"
   ]
  },
  {
   "cell_type": "code",
   "execution_count": 8,
   "metadata": {
    "scrolled": true
   },
   "outputs": [
    {
     "name": "stdout",
     "output_type": "stream",
     "text": [
      "20.json\n",
      "36.json\n",
      "16.json\n",
      "6.json\n",
      "7.json\n",
      "17.json\n",
      "40.json\n",
      "37.json\n",
      "21.json\n",
      "10.json\n",
      "26.json\n",
      "30.json\n",
      "31.json\n",
      "27.json\n",
      "1.json\n",
      "11.json\n",
      "2.json\n",
      "12.json\n",
      "32.json\n",
      "25.json\n",
      "33.json\n",
      "13.json\n",
      "29.json\n",
      "3.json\n",
      "34.json\n",
      "22.json\n",
      "18.json\n",
      "38.json\n",
      "4.json\n",
      "14.json\n",
      "15.json\n",
      "5.json\n",
      "39.json\n",
      "19.json\n",
      "23.json\n",
      "9.json\n",
      "35.json\n"
     ]
    }
   ],
   "source": [
    "predicted_arousals = []\n",
    "actual_arousals = []\n",
    "predicted_valence = []\n",
    "actual_valence = []\n",
    "\n",
    "for file in os.listdir(root):\n",
    "    if \"pth\" not in file:\n",
    "        print(file)\n",
    "        with open (os.path.join(root, file)) as f:\n",
    "            data = json.load(f)\n",
    "\n",
    "            predicted_arousals  = data['predicted_arousal'] + predicted_arousals\n",
    "            actual_arousals  = data['actual_arousal'] + actual_arousals\n",
    "\n",
    "            predicted_valence  = data['predicted_valence'] + predicted_valence\n",
    "            actual_valence  = data['actual_valence'] + actual_valence\n"
   ]
  },
  {
   "cell_type": "code",
   "execution_count": 104,
   "metadata": {},
   "outputs": [
    {
     "data": {
      "image/png": "[encoded data removed]",
      "text/plain": [
       "<Figure size 1080x720 with 1 Axes>"
      ]
     },
     "metadata": {
      "needs_background": "light"
     },
     "output_type": "display_data"
    }
   ],
   "source": [
    "fig, ax = plt.subplots(figsize=(15,10))\n",
    "matplotlib.rcParams.update({'font.size': 19.5})\n",
    "\n",
    "plt.hist(predicted_arousals, bins=80, label='predicted', density=True)\n",
    "plt.hist(actual_arousals, bins=80, alpha= 0.5, label='actual', density=True)\n",
    "plt.xlabel(\"Valence value\")\n",
    "# plt.vlines(np.mean(predicted_valence), 0, 30, linestyles =\"dotted\", colors =\"k\") \n",
    "# plt.vlines(np.mean(actual_valence), 0, 30, linestyles =\"dotted\", colors =\"r\") \n",
    "plt.legend()\n",
    "plt.title(f\"Normalised valence histograms for LOSO emotion prediction\")\n",
    "plt.vlines(actual_arousals.mean(), 0, 19)\n",
    "plt.vlines(actual_arousals.mean() - actual_arousals.std(), 0, 19)\n",
    "plt.vlines(actual_arousals.mean() + actual_arousals.std(), 0, 19)\n",
    "plt.show()"
   ]
  },
  {
   "cell_type": "markdown",
   "metadata": {},
   "source": [
    "# plots for tracking"
   ]
  },
  {
   "cell_type": "code",
   "execution_count": 43,
   "metadata": {},
   "outputs": [
    {
     "name": "stdout",
     "output_type": "stream",
     "text": [
      "/Users/williamrichards/Desktop/jsons/splits\n"
     ]
    }
   ],
   "source": [
    "cd jsons/splits/"
   ]
  },
  {
   "cell_type": "code",
   "execution_count": 44,
   "metadata": {},
   "outputs": [],
   "source": [
    "import torch\n",
    "from amigosnet.existing_model.models.vgg_face import *\n",
    "import cv2\n",
    "from torchvision import datasets, transforms"
   ]
  },
  {
   "cell_type": "code",
   "execution_count": 52,
   "metadata": {},
   "outputs": [],
   "source": [
    "net = FERNet()\n",
    "net = nn.DataParallel(net)\n",
    "pretrained_weights = torch.load(\"0_model.pth\", map_location=torch.device('cpu'))\n",
    "net.load_state_dict(pretrained_weights)\n",
    "net = net.eval()"
   ]
  },
  {
   "cell_type": "code",
   "execution_count": 53,
   "metadata": {},
   "outputs": [],
   "source": [
    "means = (0.0, 0.0, 0.0)\n",
    "stds = (255.0, 255.0, 255.0)\n",
    "\n",
    "loader = transforms.Compose([\n",
    "            transforms.ToTensor(),\n",
    "            transforms.Normalize(means, stds),\n",
    "            ])\n",
    "\n",
    "def image_loader(image_name):\n",
    "    \"\"\"load image, returns cuda tensor\"\"\"\n",
    "    image = cv2.imread(image_name)\n",
    "    image = loader(image.astype(np.double)).float()\n",
    "    image = torch.tensor(image)\n",
    "    image = image.unsqueeze(0)  \n",
    "    return image  \n"
   ]
  },
  {
   "cell_type": "code",
   "execution_count": 54,
   "metadata": {
    "scrolled": true
   },
   "outputs": [
    {
     "name": "stderr",
     "output_type": "stream",
     "text": [
      "/Users/williamrichards/anaconda3/lib/python3.6/site-packages/ipykernel_launcher.py:13: UserWarning: To copy construct from a tensor, it is recommended to use sourceTensor.clone().detach() or sourceTensor.clone().detach().requires_grad_(True), rather than torch.tensor(sourceTensor).\n",
      "  del sys.path[0]\n"
     ]
    },
    {
     "name": "stdout",
     "output_type": "stream",
     "text": [
      "2286\n",
      "91.44\n"
     ]
    }
   ],
   "source": [
    "targets = pd.read_csv('../../amigosnet/targets.csv', index_col = [0,1])\n",
    "part, vid = 1 , 4\n",
    "\n",
    "xs = []\n",
    "ys = []\n",
    "max_frame = 0\n",
    "for file in os.listdir(\"../../datasets/Amigossmall\"):\n",
    "    if file[0:len(f\"{part},{vid}\")] == f'{part},{vid}':\n",
    "        max_frame = max(max_frame, int(file.split(\",\")[-1].split(\".\")[0]))\n",
    "        xs.append (int(file.split(',')[3].split('.')[0])/25)\n",
    "        image = image_loader(f'../../datasets/Amigossmall/{file}')\n",
    "        res = net(image)\n",
    "        ys.append(res)\n",
    "print (max_frame )\n",
    "print (max_frame / 25)"
   ]
  },
  {
   "cell_type": "code",
   "execution_count": 55,
   "metadata": {},
   "outputs": [],
   "source": [
    "segment = max_frame // (20*25)\n",
    "\n",
    "\n",
    "remainder =  (\n",
    "    len(np.linspace(0, int(max(xs))+1, int(max(xs))+1)) -\n",
    "    len(np.repeat(targets.loc[(part, vid), 'arousal'].values[:segment +1][:-1], 20))\n",
    "\n",
    ")\n",
    "remainder"
   ]
  },
  {
   "cell_type": "code",
   "execution_count": null,
   "metadata": {
    "scrolled": true
   },
   "outputs": [],
   "source": [
    "labels_arousal_seconds = np.linspace(0, int(max(xs))+1, int(max(xs))+1)\n",
    "labels_arousal = np.append(\n",
    "    np.repeat(targets.loc[(part, vid), 'arousal'].values[:segment +1][:-1], 20),\n",
    "    np.repeat(targets.loc[(part, vid), 'arousal'].values[:segment +1][-1:], remainder)\n",
    ")            \n",
    "\n",
    "labels_valence_seconds = np.linspace(0, int(max(xs))+1, int(max(xs))+1)\n",
    "labels_valence = np.append(\n",
    "    np.repeat(targets.loc[(part, vid), 'valence'].values[:segment +1][:-1], 20),\n",
    "    np.repeat(targets.loc[(part, vid), 'valence'].values[:segment +1][-1:], remainder)\n",
    ")"
   ]
  },
  {
   "cell_type": "code",
   "execution_count": null,
   "metadata": {},
   "outputs": [],
   "source": [
    "labels_arousal.shape , labels_arousal_seconds.shape"
   ]
  },
  {
   "cell_type": "code",
   "execution_count": null,
   "metadata": {
    "scrolled": false
   },
   "outputs": [],
   "source": [
    "fig, ax = plt.subplots(figsize=(15,10))\n",
    "\n",
    "plt.plot(labels_arousal_seconds, labels_arousal, label = 'Average External Annotation arousal', c='r')\n",
    "plt.plot(labels_valence_seconds, labels_valence, label = 'Average External Annotation valence')\n",
    "\n",
    "valence = [x.tolist()[0][1] for x in ys]\n",
    "arousal = [x.tolist()[0][0] for x in ys]\n",
    "\n",
    "s1 = plt.scatter(xs, arousal, s=8, c='k', label='Predicted Arousal')\n",
    "s2 = plt.scatter(xs, valence, s=8, c='g', label='Predicted Valence')\n",
    "lgnd = plt.legend(loc=2, fontsize=14)\n",
    "lgnd.legendHandles[0]._legmarker.set_markersize(16.5)\n",
    "lgnd.legendHandles[1]._legmarker.set_markersize(16.5)\n",
    "\n",
    "plt.title(\"Emotion reproduction against time for Participant 1 video 4\")\n",
    "plt.xlabel('Timestep (s)')\n",
    "plt.ylabel('Emotion')\n",
    "# plt.xlim(-3, 86)\n",
    "plt.savefig('reproduction_affectnet_no_augmentation.jpg')\n",
    "plt.show()\n",
    "\n"
   ]
  }
 ],
 "metadata": {
  "kernelspec": {
   "display_name": "Python 3",
   "language": "python",
   "name": "python3"
  },
  "language_info": {
   "codemirror_mode": {
    "name": "ipython",
    "version": 3
   },
   "file_extension": ".py",
   "mimetype": "text/x-python",
   "name": "python",
   "nbconvert_exporter": "python",
   "pygments_lexer": "ipython3",
   "version": "3.7.3"
  },
  "varInspector": {
   "cols": {
    "lenName": 16,
    "lenType": 16,
    "lenVar": 40
   },
   "kernels_config": {
    "python": {
     "delete_cmd_postfix": "",
     "delete_cmd_prefix": "del ",
     "library": "var_list.py",
     "varRefreshCmd": "print(var_dic_list())"
    },
    "r": {
     "delete_cmd_postfix": ") ",
     "delete_cmd_prefix": "rm(",
     "library": "var_list.r",
     "varRefreshCmd": "cat(var_dic_list()) "
    }
   },
   "types_to_exclude": [
    "module",
    "function",
    "builtin_function_or_method",
    "instance",
    "_Feature"
   ],
   "window_display": false
  }
 },
 "nbformat": 4,
 "nbformat_minor": 2
}
