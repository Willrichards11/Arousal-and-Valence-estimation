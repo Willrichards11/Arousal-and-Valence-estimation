{
 "cells": [
  {
   "cell_type": "code",
   "execution_count": 109,
   "metadata": {
    "ExecuteTime": {
     "end_time": "2020-09-01T23:26:25.024492Z",
     "start_time": "2020-09-01T23:26:25.000587Z"
    }
   },
   "outputs": [],
   "source": [
    "import json\n",
    "import matplotlib.pyplot as plt\n",
    "import numpy as np\n",
    "import os\n",
    "import pandas as pd\n",
    "import matplotlib\n",
    "import scipy.stats as stats\n",
    "import scipy.stats\n",
    "from scipy.special import boxcox, inv_boxcox\n",
    "\n",
    "\n",
    "def ccc(array1, array2):\n",
    "    \"concordance correlation from wiki definition\"\n",
    "    sigx = np.std(array1)\n",
    "    sigy = np.std(array2)\n",
    "    corr = np.corrcoef(array1, array2)[0][1]\n",
    "    mux = np.mean(array1)\n",
    "    muy = np.mean(array2)\n",
    "    return (2*corr*sigx*sigy) / (sigx**2 + sigy**2 + (mux - muy)**2)\n"
   ]
  },
  {
   "cell_type": "code",
   "execution_count": 108,
   "metadata": {
    "ExecuteTime": {
     "end_time": "2020-09-01T22:04:53.330144Z",
     "start_time": "2020-09-01T21:59:19.124630Z"
    }
   },
   "outputs": [
    {
     "name": "stdout",
     "output_type": "stream",
     "text": [
      "folder: loso,adapted-True,reducedsecond-True,hog-False,affect-False,0.001,0.9,0.0005\n",
      "pcc arou 0.5533589764538653 ccc arou 0.41748079275029226\n",
      "pcc val 0.548493938893216 ccc val 0.40890605358757864\n",
      "mse arou 0.004447917587444379 std arou 0.0009738202660587473\n",
      "mse val 0.0021040178107789836 std val 0.00054138523587721\n",
      "mae arou 0.0502389432142496 std arou 0.005890243397445032\n",
      "mae val 0.028607189759294733 std val 0.005114180734194863\n",
      "folder: secondattempt,inter,adapted-False,reducedsecond-True,0.001,0.9,0.0005\n",
      "pcc arou 0.581840110198721 ccc arou 0.47895549268396764\n",
      "pcc val 0.6573325732582954 ccc val 0.6203034053169589\n",
      "mse arou 0.004627667559392459 std arou 0.0003261328979095914\n",
      "mse val 0.0027587339507171246 std val 0.00016806070864124165\n",
      "mae arou 0.05007988610533835 std arou 0.0016155547840063659\n",
      "mae val 0.0342024879181638 std val 0.001476196626970079\n",
      "folder: loso,adapted-True,reducedsecond-True,hog-True,affect-False,0.001,0.9,0.0005\n",
      "pcc arou 0.5626992471252491 ccc arou 0.4493533279265308\n",
      "pcc val 0.6240848540285249 ccc val 0.572548072791772\n",
      "mse arou 0.004637494311592455 std arou 0.00033004543545161634\n",
      "mse val 0.0027609869491690515 std val 0.00016723808360626774\n",
      "mae arou 0.05011652733999096 std arou 0.0016207161111596341\n",
      "mae val 0.03422597661653036 std val 0.0014709197392891614\n",
      "folder: secondattempt,loso,adapted-False,reducedsecond-True,0.001,0.9,0.0005\n",
      "pcc arou 0.568530420476185 ccc arou 0.4706241524160829\n",
      "pcc val 0.5993198307383983 ccc val 0.5490085238570612\n",
      "mse arou 0.004669167434655896 std arou 0.0003444585820664696\n",
      "mse val 0.0027826805394486577 std val 0.0001859559399924997\n",
      "mae arou 0.05023828678267675 std arou 0.0016494971696724475\n",
      "mae val 0.03440737024111743 std val 0.0016195731351723462\n",
      "folder: inter,adapted-True,reducedsecond-True,hog-False,affect-False,0.001,0.9,0.0005\n",
      "pcc arou 0.6004199128629046 ccc arou 0.4967140436086009\n",
      "pcc val 0.6063108764495108 ccc val 0.5416119180857841\n",
      "mse arou 0.004772665623778188 std arou 0.00029982645600170216\n",
      "mse val 0.0029437196535511733 std val 0.00022643762702564453\n",
      "mae arou 0.05039351787865356 std arou 0.0014425750734413938\n",
      "mae val 0.03578361592657339 std val 0.0019353679589987828\n",
      "folder: inter,adapted-True,reducedsecond-True,hog-True,affect-False,0.001,0.9,0.0005\n",
      "pcc arou 0.6041347031640574 ccc arou 0.496731529715013\n",
      "pcc val 0.5964344181128729 ccc val 0.5203015968499182\n",
      "mse arou 0.004670816775712463 std arou 0.00028828084433386674\n",
      "mse val 0.002921494649542447 std val 0.00018951890226185546\n",
      "mae arou 0.04961669443466394 std arou 0.0016375646819328073\n",
      "mae val 0.03560414940760456 std val 0.0016160375265992972\n"
     ]
    }
   ],
   "source": [
    "root = 'jsons_new'\n",
    "predicted_arousals = []\n",
    "actual_arousals = []\n",
    "predicted_valence = []\n",
    "actual_valence = []\n",
    "mse_errs_arousal = []\n",
    "abs_errs_arousal = []\n",
    "mse_errs_valence = []\n",
    "abs_errs_valence = [] \n",
    "\n",
    "for folder in os.listdir(root):\n",
    "    path = os.path.join(root, folder)\n",
    "\n",
    "    if \"DS\" not in path:\n",
    "        print (f\"folder: {folder}\")\n",
    "\n",
    "        for file in os.listdir(path):\n",
    "            with open (os.path.join(path, file)) as f:\n",
    "                if \"DS\" not in os.path.join(path, file):\n",
    "                    data = json.load(f)\n",
    "                    predicted_arousals  = data['predicted_arousal'] + predicted_arousals\n",
    "                    actual_arousals  = data['actual_arousal'] + actual_arousals\n",
    "\n",
    "                    predicted_valence  = data['predicted_valence'] + predicted_valence\n",
    "                    actual_valence  = data['actual_valence'] + actual_valence\n",
    "\n",
    "                    mse_errs_arousal.append(((np.array(predicted_arousals) - actual_arousals)**2).sum() / len(actual_arousals))\n",
    "                    abs_errs_arousal.append((np.abs(np.array(predicted_arousals) - actual_arousals)).sum() / len(actual_arousals))\n",
    "\n",
    "                    mse_errs_valence.append(((np.array(predicted_valence) - actual_valence)**2).sum() / len(actual_valence))\n",
    "                    abs_errs_valence.append((np.abs(np.array(predicted_valence) - actual_valence)).sum() / len(actual_valence))\n",
    "        print (f\"pcc arou {np.corrcoef(predicted_arousals, actual_arousals)[0][1]} ccc arou {ccc(actual_arousals, predicted_arousals)}\")\n",
    "        print (f\"pcc val {np.corrcoef(predicted_valence, actual_valence)[0][1]} ccc val {ccc( actual_valence, predicted_valence)}\")\n",
    "        print (f\"mse arou {np.mean(mse_errs_arousal)} std arou {np.std(mse_errs_arousal)}\")\n",
    "        print (f\"mse val {np.mean(mse_errs_valence)} std val {np.std(mse_errs_valence)}\")\n",
    "        print (f\"mae arou {np.mean(abs_errs_arousal)} std arou {np.std(abs_errs_arousal)}\")\n",
    "        print (f\"mae val {np.mean(abs_errs_valence)} std val {np.std(abs_errs_valence)}\")\n"
   ]
  },
  {
   "cell_type": "code",
   "execution_count": 102,
   "metadata": {
    "ExecuteTime": {
     "end_time": "2020-09-01T20:25:17.085320Z",
     "start_time": "2020-09-01T20:25:17.082281Z"
    }
   },
   "outputs": [],
   "source": [
    "root = 'jsons_new/secondattempt,loso,adapted-False,reducedsecond-True,0.001,0.9,0.0005'"
   ]
  },
  {
   "cell_type": "code",
   "execution_count": 103,
   "metadata": {
    "ExecuteTime": {
     "end_time": "2020-09-01T20:25:43.940276Z",
     "start_time": "2020-09-01T20:25:43.592314Z"
    },
    "scrolled": true
   },
   "outputs": [],
   "source": [
    "predicted_arousals = []\n",
    "actual_arousals = []\n",
    "predicted_valence = []\n",
    "actual_valence = []\n",
    "\n",
    "for file in os.listdir(root):\n",
    "    if \"DS\" not in file:\n",
    "        with open (os.path.join(root, file)) as f:\n",
    "            data = json.load(f)\n",
    "            predicted_arousals  = data['predicted_arousal'] + predicted_arousals\n",
    "            actual_arousals  = data['actual_arousal'] + actual_arousals\n",
    "\n",
    "            predicted_valence  = data['predicted_valence'] + predicted_valence\n",
    "            actual_valence  = data['actual_valence'] + actual_valence\n"
   ]
  },
  {
   "cell_type": "code",
   "execution_count": 104,
   "metadata": {
    "ExecuteTime": {
     "end_time": "2020-09-01T20:26:10.345072Z",
     "start_time": "2020-09-01T20:26:10.248540Z"
    }
   },
   "outputs": [
    {
     "data": {
      "text/plain": [
       "0.031079082914567815"
      ]
     },
     "execution_count": 104,
     "metadata": {},
     "output_type": "execute_result"
    }
   ],
   "source": [
    "stats.wasserstein_distance(predicted_arousals, actual_arousals)"
   ]
  },
  {
   "cell_type": "code",
   "execution_count": 105,
   "metadata": {
    "ExecuteTime": {
     "end_time": "2020-09-01T20:26:35.443245Z",
     "start_time": "2020-09-01T20:26:35.350331Z"
    }
   },
   "outputs": [
    {
     "data": {
      "text/plain": [
       "0.019059436020142522"
      ]
     },
     "execution_count": 105,
     "metadata": {},
     "output_type": "execute_result"
    }
   ],
   "source": [
    "stats.wasserstein_distance(predicted_valence, actual_valence)"
   ]
  },
  {
   "cell_type": "code",
   "execution_count": 106,
   "metadata": {
    "ExecuteTime": {
     "end_time": "2020-09-01T20:27:01.527288Z",
     "start_time": "2020-09-01T20:27:00.951617Z"
    }
   },
   "outputs": [
    {
     "data": {
      "image/png": "[encoded data removed]",
      "text/plain": [
       "<Figure size 1080x720 with 1 Axes>"
      ]
     },
     "metadata": {
      "needs_background": "light"
     },
     "output_type": "display_data"
    }
   ],
   "source": [
    "fig, ax = plt.subplots(figsize=(15,10))\n",
    "matplotlib.rcParams.update({'font.size': 19.5})\n",
    "\n",
    "plt.hist(predicted_arousals, bins=40, label='predicted', density=True)\n",
    "plt.hist(actual_arousals, bins=40, alpha= 0.5, label='actual', density=True)\n",
    "plt.xlabel(\"Arousal value\")\n",
    "plt.ylabel(\"Scaled count\")\n",
    "# plt.vlines(np.mean(predicted_valence), 0, 30, linestyles =\"dotted\", colors =\"k\") \n",
    "# plt.vlines(np.mean(actual_valence), 0, 30, linestyles =\"dotted\", colors =\"r\") \n",
    "plt.legend()\n",
    "plt.title(f\"Normalised valence histograms for LOSO emotion prediction - reduced dataset\")\n",
    "\n",
    "plt.show()"
   ]
  }
 ],
 "metadata": {
  "kernelspec": {
   "display_name": "Python 3",
   "language": "python",
   "name": "python3"
  },
  "language_info": {
   "codemirror_mode": {
    "name": "ipython",
    "version": 3
   },
   "file_extension": ".py",
   "mimetype": "text/x-python",
   "name": "python",
   "nbconvert_exporter": "python",
   "pygments_lexer": "ipython3",
   "version": "3.7.3"
  },
  "varInspector": {
   "cols": {
    "lenName": 16,
    "lenType": 16,
    "lenVar": 40
   },
   "kernels_config": {
    "python": {
     "delete_cmd_postfix": "",
     "delete_cmd_prefix": "del ",
     "library": "var_list.py",
     "varRefreshCmd": "print(var_dic_list())"
    },
    "r": {
     "delete_cmd_postfix": ") ",
     "delete_cmd_prefix": "rm(",
     "library": "var_list.r",
     "varRefreshCmd": "cat(var_dic_list()) "
    }
   },
   "types_to_exclude": [
    "module",
    "function",
    "builtin_function_or_method",
    "instance",
    "_Feature"
   ],
   "window_display": false
  }
 },
 "nbformat": 4,
 "nbformat_minor": 2
}
